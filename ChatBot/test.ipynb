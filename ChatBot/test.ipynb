{
 "cells": [
  {
   "cell_type": "code",
   "execution_count": 2,
   "metadata": {},
   "outputs": [],
   "source": [
    "import os"
   ]
  },
  {
   "cell_type": "code",
   "execution_count": 8,
   "metadata": {},
   "outputs": [],
   "source": [
    "pose_folder = os.path.join(os.path.dirname(os.path.realpath(\n",
    "                \"test\")), 'static', 'pose')\n",
    "pose_files = os.listdir(pose_folder)\n",
    "pose_files = [file for file in pose_files if file.lower().endswith(\n",
    "    (\".jpg\", \".jpeg\", \".png\"))]"
   ]
  },
  {
   "cell_type": "code",
   "execution_count": 1,
   "metadata": {},
   "outputs": [],
   "source": [
    "a = ['000005_1.jpg', '000003_1.jpg', '000004_1.jpg', '000001_1.jpg', '000002_1.jpg']\n",
    "a.sort()"
   ]
  },
  {
   "cell_type": "code",
   "execution_count": 2,
   "metadata": {},
   "outputs": [
    {
     "data": {
      "text/plain": [
       "['000001_1.jpg',\n",
       " '000002_1.jpg',\n",
       " '000003_1.jpg',\n",
       " '000004_1.jpg',\n",
       " '000005_1.jpg']"
      ]
     },
     "execution_count": 2,
     "metadata": {},
     "output_type": "execute_result"
    }
   ],
   "source": [
    "a"
   ]
  }
 ],
 "metadata": {
  "kernelspec": {
   "display_name": "base",
   "language": "python",
   "name": "python3"
  },
  "language_info": {
   "codemirror_mode": {
    "name": "ipython",
    "version": 3
   },
   "file_extension": ".py",
   "mimetype": "text/x-python",
   "name": "python",
   "nbconvert_exporter": "python",
   "pygments_lexer": "ipython3",
   "version": "3.11.5"
  }
 },
 "nbformat": 4,
 "nbformat_minor": 2
}
